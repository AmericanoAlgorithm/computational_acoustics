{
 "cells": [
  {
   "cell_type": "markdown",
   "metadata": {},
   "source": [
    "# Numerical Solution of the Wave Equation using the Finite Element Method"
   ]
  },
  {
   "cell_type": "markdown",
   "metadata": {},
   "source": [
    "This notebook illustrates the numerical time-domain solution of the wave equation using the [Finite Element Method](https://en.wikipedia.org/wiki/Finite_element_method) (FEM). The method aims at an approximate solution by subdividing the area of interest into smaller parts with simpler geometry, linking these parts together and applying methods from the calculus of variations to solve the problem numerically. The FEM is a well established method for the numerical approximation of the solution of partial differential equations (PDEs). The solutions of PDEs are often known analytically only for rather simple geometries. FEM based simulations allow to gain insights into other more complex cases."
   ]
  },
  {
   "cell_type": "markdown",
   "metadata": {},
   "source": [
    "## Problem Statement\n",
    "\n",
    "The linear and lossless propagation of sound is governed by the inhomogeneous linear [wave equation](https://en.wikipedia.org/wiki/Wave_equation)\n",
    "\n",
    "\\begin{equation}\n",
    "\\Delta p(\\mathbf{x}, t) - \\frac{1}{c^2} \\frac{\\partial^2}{\\partial t^2} p(\\mathbf{x}, t) = - q(\\mathbf{x}, t) ,\n",
    "\\end{equation}\n",
    "\n",
    "where $p(\\mathbf{x}, t)$ denotes the sound pressure at position $\\mathbf{x}$, $c$ the speed of sound and $q(\\mathbf{x}, t)$ the inhomogeneity.\n",
    "We aim in the following for a numerical solution of the wave equation on the domain $V$ with respect to the homogeneous Dirichlet boundary condition\n",
    "\n",
    "\\begin{equation}\n",
    "p(\\mathbf{x}, t) = 0 \\qquad \\text{for } x \\in \\partial V , \n",
    "\\end{equation}\n",
    "\n",
    "or the homogeneous Neumann boundary condition\n",
    "\n",
    "\\begin{equation}\n",
    "\\frac{\\partial}{\\partial n} p(\\mathbf{x}, t) = 0 \\qquad \\text{for } x \\in \\partial V ,\n",
    "\\end{equation}\n",
    "\n",
    "where $\\partial V $ denotes the boundary of $V$."
   ]
  },
  {
   "cell_type": "markdown",
   "metadata": {},
   "source": [
    "## Variational Formulation\n",
    "\n",
    "The FEM is based on expressing the partial differential equation (PDE) to be solved in its [variational](https://en.wikipedia.org/wiki/Calculus_of_variations) or weak form.\n",
    "The first step towards this is to approximate the second-order temporal derivative in the wave equation by its backward [finite difference](https://en.wikipedia.org/wiki/Finite_difference)\n",
    "\n",
    "\\begin{equation}\n",
    "\\frac{\\partial^2}{\\partial t^2} p(\\mathbf{x}, t) \\approx \\frac{p(\\mathbf{x}, t) - 2 p(\\mathbf{x}, t - T) + \n",
    "p(\\mathbf{x}, t- 2 T)}{T^2} ,\n",
    "\\end{equation}\n",
    "\n",
    "where $T$ denotes the temporal stepsize (i.e. the sampling interval).\n",
    "Introducing this approximation into the wave equation and rearranging terms yields\n",
    "\n",
    "\\begin{equation}\n",
    "c^2 T^2 \\Delta p(\\mathbf{x}, t) - p(\\mathbf{x}, t) = - 2 p(\\mathbf{x}, t - T) + \n",
    "p(\\mathbf{x}, t- 2 T) - c^2 T^2 q(\\mathbf{x}, t) .\n",
    "\\end{equation}\n",
    "\n",
    "In order to derive the variational formulation we follow the [procedure outlined for the Helmholz equation](FEM_Helmholtz_equation_2D.ipynb#Variational-Formulation).\n",
    "Multiplication by the test function $v(\\mathbf{x}, t)$, integration over the domain $V$ and application of Green's first identity yields\n",
    "\n",
    "\\begin{equation}\n",
    "- \\int_V \\left( c^2 T^2  \\nabla p(\\mathbf{x}, t) \\cdot \\nabla v(\\mathbf{x}, t) +\n",
    "p(\\mathbf{x}, t) v(\\mathbf{x}, t) \\right) \\mathrm{d}x =\n",
    "\\int_V \\left( - 2 p(\\mathbf{x}, t - T) + \n",
    "p(\\mathbf{x}, t- 2 T) - c^2 T^2 q(\\mathbf{x}, t) \\right) v(\\mathbf{x}, t) \\mathrm{d}x ,\n",
    "\\end{equation}\n",
    "\n",
    "where  $v(\\mathbf{x}, t) = 0$ on $\\partial V$ where $p(\\mathbf{x}, t)$ is known - for instance due to fixed boundary conditions - was exploited in case of a pure Dirichlet boundary condition or $\\frac{\\partial}{\\partial n} p(\\mathbf{x}, t) = 0$ on $\\partial V$ in case of a pure Neumann boundary condition.\n",
    "It is common to express the integral equation above in terms of the bilinear $a(P, V)$ and linear $L(V)$ forms \n",
    "\n",
    "\\begin{equation}\n",
    "a(P, V) = \\int_V \\left( c^2 T^2  \\nabla p(\\mathbf{x}, t) \\cdot \\nabla v(\\mathbf{x}, t) +\n",
    "p(\\mathbf{x}, t) v(\\mathbf{x}, t) \\right) \\mathrm{d}x ,\n",
    "\\end{equation}\n",
    "\n",
    "\\begin{equation}\n",
    "L(V) = \\int_V \\left( 2 p(\\mathbf{x}, t - T) - p(\\mathbf{x}, t- 2 T) + c^2 T^2 q(\\mathbf{x}, t) \\right) v(\\mathbf{x}, t) \\mathrm{d}x ,\n",
    "\\end{equation}\n",
    "\n",
    "where\n",
    "\n",
    "\\begin{equation}\n",
    "a(P, V) = L(V) .\n",
    "\\end{equation}"
   ]
  },
  {
   "cell_type": "markdown",
   "metadata": {},
   "source": [
    "## Numerical Solution\n",
    "\n",
    "The numerical solution of the variational problem is based on [FEniCS](https://fenicsproject.org/), an open-source framework for numerical solution of PDEs.\n",
    "Its high-level Python interface `dolfin` is used in the following to define the problem and compute its solution.\n",
    "The implementation is directly based on the variational formulation derived above.\n",
    "It is common in the FEM to denote the solution of the problem by $u$ and the test function by $v$.\n",
    "The definition of the problem in FEniCS is very close to the mathematical formulation of the problem."
   ]
  },
  {
   "cell_type": "code",
   "execution_count": null,
   "metadata": {},
   "outputs": [],
   "source": [
    "import dolfin\n",
    "import mshr\n",
    "import matplotlib.pyplot as plt\n",
    "%matplotlib inline\n",
    "\n",
    "T = 1/40000  # temporal sampling interval\n",
    "\n",
    "\n",
    "def FEM_wave_equation(mesh, T, N, xs, neumann_bc=True, c=343):\n",
    "    \n",
    "    # define function space\n",
    "    V = dolfin.FunctionSpace(mesh, \"CG\", 1)\n",
    "\n",
    "    # define previous and second-last solution\n",
    "    u1 = dolfin.interpolate(dolfin.Constant(0.0), V)\n",
    "    u0 = dolfin.interpolate(dolfin.Constant(0.0), V)\n",
    "\n",
    "    # define boundary conditions\n",
    "    if neumann_bc:\n",
    "        bcs = None\n",
    "    else:\n",
    "        bcs = dolfin.DirichletBC(V, dolfin.Constant(0.), \"on_boundary\")\n",
    "\n",
    "    # define variational problem\n",
    "    u = dolfin.TrialFunction(V)\n",
    "    v = dolfin.TestFunction(V)\n",
    "\n",
    "    a = dolfin.inner(u, v) * dolfin.dx + dolfin.Constant(T**2 * c**2) * dolfin.inner(dolfin.nabla_grad(u), dolfin.nabla_grad(v)) * dolfin.dx\n",
    "    L = 2*u1*v * dolfin.dx - u0*v * dolfin.dx\n",
    "\n",
    "    # compute solution for all time-steps\n",
    "    u = dolfin.Function(V)\n",
    "\n",
    "    for n in range(N):\n",
    "        A, b = dolfin.assemble_system(a, L, bcs)\n",
    "        # define inhomogenity\n",
    "        if n==0:\n",
    "            delta = dolfin.PointSource(V, xs, 1)\n",
    "            delta.apply(b)\n",
    "        # solve variational problem\n",
    "        dolfin.solve(A, u.vector(), b)\n",
    "        u0.assign(u1)\n",
    "        u1.assign(u)\n",
    "    \n",
    "    return u\n",
    "\n",
    "\n",
    "def plot_soundfield(u):\n",
    "    '''plots solution of FEM-based simulation'''\n",
    "    fig = plt.figure(figsize=(10,10))\n",
    "    fig = dolfin.plot(u)\n",
    "    plt.title(r'$p(\\mathbf{x}, t)$')\n",
    "    plt.xlabel(r'$x$ / m')\n",
    "    plt.ylabel(r'$y$ / m')\n",
    "    plt.colorbar(fig, fraction=0.038, pad=0.04);"
   ]
  },
  {
   "cell_type": "markdown",
   "metadata": {},
   "source": [
    "### Sound Field in a Rectangular Room with Sound-Hard Boundaries\n",
    "\n",
    "For a first validation of the numerical simulation by the FEM, the solution of inhomogeneous two-dimensional wave equation for a point source $q(\\mathbf{x}, t) = \\delta(\\mathbf{x}-\\mathbf{x}_s) \\cdot \\delta(t)$ at position $\\mathbf{x}_s = (2,2)$ m is considered for a Dirac shaped excitation in the time-domain. The simulated geometry is a two-dimensional rectangular room with size $4 \\times 4$ meters and sound-hard boundaries (Neumann boundary condition). Note that the free-field solution of the two-dimensional wave equation for a spatio-temporally Dirac shaped excitation is given as\n",
    "\n",
    "\\begin{equation}\n",
    "p(\\mathbf{x}, t) = \\frac{1}{2 \\pi \\sqrt{t^2 - (\\frac{||\\mathbf{x} - \\mathbf{x}_s||}{c})^2}} \\qquad \\text{for } t > \\frac{||\\mathbf{x} - \\mathbf{x}_s||}{c} .\n",
    "\\end{equation}\n",
    "\n",
    "In order to validate the simulation for free-field propagation the timestep $N=150$ and sampling interval $T=\\frac{1}{40000}$ s are chosen such that the incident wave is not reflected by one of the walls. The simulated time $t = N \\cdot T = 3.75$ ms after excitation by the Dirac impulse."
   ]
  },
  {
   "cell_type": "code",
   "execution_count": null,
   "metadata": {},
   "outputs": [],
   "source": [
    "# define geometry and mesh\n",
    "domain = mshr.Rectangle(dolfin.Point(0, 0), dolfin.Point(4,4))\n",
    "mesh = mshr.generate_mesh(domain, 200)\n",
    "\n",
    "# compute solution\n",
    "u = FEM_wave_equation(mesh, T, 150, dolfin.Point(2,2), neumann_bc=True)\n",
    "\n",
    "# plot sound field\n",
    "plot_soundfield(u)\n",
    "plt.grid()"
   ]
  },
  {
   "cell_type": "markdown",
   "metadata": {},
   "source": [
    "The result of the numerical simulation is compared to the theoretical result given above for a line parallel to the y-axis for $y = 2$."
   ]
  },
  {
   "cell_type": "code",
   "execution_count": null,
   "metadata": {},
   "outputs": [],
   "source": [
    "import numpy as np\n",
    "\n",
    "# extract simulation results on line\n",
    "x = np.linspace(0 + 1E-14, 4 - 1E-14, 101)\n",
    "points = [(x_, 2) for x_ in x]\n",
    "ux = [u(point) for point in points]\n",
    "\n",
    "# compute analytic result on line\n",
    "px = np.zeros(len(x))\n",
    "a = (150*T)**2 - (np.sqrt((x-2)**2 + (2-2)**2)/343)**2\n",
    "px[a>0] = 0.34 * 1/(2*np.pi * np.sqrt(a[a>0]))\n",
    "\n",
    "# plot comparison\n",
    "plt.figure(figsize=(10,5))\n",
    "plt.plot(x, px, 'k--' , label='analytic solution')\n",
    "plt.plot(x, ux, label='numeric solution')\n",
    "plt.xlabel(r'$x$ / m')\n",
    "plt.ylabel(r'$p(\\mathbf{x}, t)$')\n",
    "plt.legend()\n",
    "plt.ylim([0, 50]);\n",
    "plt.grid()"
   ]
  },
  {
   "cell_type": "markdown",
   "metadata": {},
   "source": [
    "### Sound Field in Two Coupled Rectangular Rooms#\n",
    "\n",
    "In order to illustrate the procedure for a more complex geometry, the sound field in two coupled rectangular rooms with sound-hard boundaries is computed. First, the geometry of the problem is defined and the mesh is plotted with a low number of elements for ease of illustration."
   ]
  },
  {
   "cell_type": "code",
   "execution_count": null,
   "metadata": {},
   "outputs": [],
   "source": [
    "# define geometry and compute low resolution mesh for illustration\n",
    "domain = mshr.Rectangle(dolfin.Point(0, 0), dolfin.Point(3,4)) + \\\n",
    "         mshr.Rectangle(dolfin.Point(3, 1.5), dolfin.Point(3.5, 2.5)) + \\\n",
    "         mshr.Rectangle(dolfin.Point(3.5, 0), dolfin.Point(6, 4))\n",
    "mesh = mshr.generate_mesh(domain, 20)\n",
    "\n",
    "dolfin.plot(mesh);"
   ]
  },
  {
   "cell_type": "markdown",
   "metadata": {},
   "source": [
    "Now the problem is defined and solved with FEniCS with a high density mesh. The source position is chosen as $\\mathbf{x}_s = (2,1)$ m and the total number of time-steps as $N=300$."
   ]
  },
  {
   "cell_type": "code",
   "execution_count": null,
   "metadata": {},
   "outputs": [],
   "source": [
    "# high resolution mesh for FEM simulation\n",
    "mesh = mshr.generate_mesh(domain, 150)\n",
    "\n",
    "# compute solution\n",
    "u = FEM_wave_equation(mesh, T, 300, dolfin.Point(2,1), neumann_bc=True)\n",
    "\n",
    "# plot sound field\n",
    "plot_soundfield(u)"
   ]
  },
  {
   "cell_type": "markdown",
   "metadata": {},
   "source": [
    "**Copyright**\n",
    "\n",
    "This notebook is provided as [Open Educational Resource](https://en.wikipedia.org/wiki/Open_educational_resources). Feel free to use the notebook for your own purposes. The text is licensed under [Creative Commons Attribution 4.0](https://creativecommons.org/licenses/by/4.0/), the code of the IPython examples under the [MIT license](https://opensource.org/licenses/MIT)."
   ]
  }
 ],
 "metadata": {
  "kernelspec": {
   "display_name": "Python 3",
   "language": "python",
   "name": "python3"
  },
  "language_info": {
   "codemirror_mode": {
    "name": "ipython",
    "version": 3
   },
   "file_extension": ".py",
   "mimetype": "text/x-python",
   "name": "python",
   "nbconvert_exporter": "python",
   "pygments_lexer": "ipython3",
   "version": "3.6.5"
  }
 },
 "nbformat": 4,
 "nbformat_minor": 2
}
