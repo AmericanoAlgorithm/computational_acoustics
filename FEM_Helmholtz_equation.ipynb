{
 "cells": [
  {
   "cell_type": "markdown",
   "metadata": {},
   "source": [
    "# Numerical Solution of the Helmholtz Equation using the Finite Element Method"
   ]
  },
  {
   "cell_type": "markdown",
   "metadata": {},
   "source": [
    "This notebook illustrates the numerical solution of the wave equation for harmonic excitation using the so called [Finite Element Method](https://en.wikipedia.org/wiki/Finite_element_method) (FEM). The method aims at an approximate solution by subdividing the area of interest into smaller parts with simpler geometry, linking these parts together and applying methods from the calculus of variations to solve the problem numerically. The FEM is a well established method for the numerical approximation of the solution of partial differential equations (PDEs). The solutions of PDEs are often known analytically only for rather simple geometries. FEM based simulations allow to gain insights into other more complex cases."
   ]
  },
  {
   "cell_type": "markdown",
   "metadata": {},
   "source": [
    "## Problem Statement\n",
    "\n",
    "The inhomogeneous linear [wave equation](https://en.wikipedia.org/wiki/Wave_equation) is given as\n",
    "\n",
    "\\begin{equation}\n",
    "\\Delta p(\\mathbf{x}, t) - \\frac{1}{c^2} \\frac{\\partial^2}{\\partial t^2} p(\\mathbf{x}, t) = - q(\\mathbf{x}, t) ,\n",
    "\\end{equation}\n",
    "\n",
    "where $p(\\mathbf{x}, t)$ denotes the sound pressure at position $\\mathbf{x}$, $c$ the speed of sound and $q(\\mathbf{x}, t)$ the inhomogeneity.\n",
    "For an harmonic excitation $q(\\mathbf{x}, t) = \\Re \\{ Q(\\mathbf{x}, \\omega) \\mathrm{e}^{\\mathrm{j} \\omega t} \\}$ with frequency $\\omega = 2 \\pi f$ we choose the Ansatz $p(\\mathbf{x}, t) = \\Re \\{ P(\\mathbf{x}, \\omega) \\mathrm{e}^{\\mathrm{j} \\omega t} \\}$ for the sound pressure.\n",
    "Introduction of the complex quantities into the wave equation yields\n",
    "\n",
    "\\begin{equation}\n",
    "\\Delta P(\\mathbf{x}, \\omega) \\mathrm{e}^{\\mathrm{j} \\omega t} + \\frac{\\omega^2}{c^2} P(\\mathbf{x}, \\omega) \\mathrm{e}^{\\mathrm{j} \\omega t} = - Q(\\mathbf{x}, \\omega) \\mathrm{e}^{\\mathrm{j} \\omega t} ,\n",
    "\\end{equation}\n",
    "\n",
    "and canceling out the $\\mathrm{e}^{\\mathrm{j} \\omega t}$ terms yields the [Helmholtz equation](https://en.wikipedia.org/wiki/Helmholtz_equation)\n",
    "\n",
    "\\begin{equation}\n",
    "\\Delta P(\\mathbf{x}, \\omega) + \\frac{\\omega^2}{c^2} P(\\mathbf{x}, \\omega) = - Q(\\mathbf{x}, \\omega) .\n",
    "\\end{equation}\n",
    "\n",
    "We aim for a numerical solution of the Helmholtz equation on the domain $V$ with respect to the homogeneous Dirichlet boundary condition\n",
    "\n",
    "\\begin{equation}\n",
    "P(\\mathbf{x}, \\omega) = 0 \\qquad \\text{for } x \\in \\partial V \n",
    "\\end{equation}\n",
    "\n",
    "or the homogeneous Neumann boundary condition\n",
    "\n",
    "\\begin{equation}\n",
    "\\frac{\\partial}{\\partial n} P(\\mathbf{x}, \\omega) = 0 \\qquad \\text{for } x \\in \\partial V ,\n",
    "\\end{equation}\n",
    "\n",
    "where $\\partial V $ denotes the boundary of $V$."
   ]
  },
  {
   "cell_type": "markdown",
   "metadata": {},
   "source": [
    "## Variational Formulation\n",
    "\n",
    "The FEM is based on expressing the partial differential equation (PDE) to be solved in its [variational](https://en.wikipedia.org/wiki/Calculus_of_variations) or weak form.\n",
    "The first step towards this formulation is to multiply the Helmholtz equation by the test function $V(\\mathbf{x}, \\omega)$\n",
    "\n",
    "\\begin{equation}\n",
    "\\Delta P(\\mathbf{x}, \\omega) \\cdot V(\\mathbf{x}, \\omega)  + \\frac{\\omega^2}{c^2} P(\\mathbf{x}, \\omega) \\cdot V(\\mathbf{x}, \\omega) = - Q(\\mathbf{x}, \\omega) \\cdot V(\\mathbf{x}, \\omega) ,\n",
    "\\end{equation}\n",
    "\n",
    "followed by integration over the domain $V$\n",
    "\n",
    "\\begin{equation}\n",
    "\\int_V \\Delta P(\\mathbf{x}, \\omega) \\cdot V(\\mathbf{x}, \\omega) \\mathrm{d}x  + \\frac{\\omega^2}{c^2} \\int_V P(\\mathbf{x}, \\omega) \\cdot V(\\mathbf{x}, \\omega) \\mathrm{d}x = - \\int_V Q(\\mathbf{x}, \\omega) \\cdot V(\\mathbf{x}, \\omega) \\mathrm{d}x ,\n",
    "\\end{equation}\n",
    "\n",
    "where $\\mathrm{d}x$ denotes a suitably chosen differential element for integration.\n",
    "Application of [Green's first identity](https://en.wikipedia.org/wiki/Green%27s_identities) yields\n",
    "\n",
    "\\begin{equation}\n",
    "- \\int_V \\nabla P(\\mathbf{x}, \\omega) \\cdot \\nabla V(\\mathbf{x}, \\omega) \\mathrm{d}x  + \n",
    "\\int_{\\partial V} V(\\mathbf{x}, \\omega) \\frac{\\partial}{\\partial n}  P(\\mathbf{x}, \\omega) \\mathrm{d}s\n",
    "+ \\frac{\\omega^2}{c^2} \\int_V P(\\mathbf{x}, \\omega) V(\\mathbf{x}, \\omega) \\mathrm{d}x = \n",
    "- \\int_V Q(\\mathbf{x}, \\omega) V(\\mathbf{x}, \\omega) \\mathrm{d}x .\n",
    "\\end{equation}\n",
    "\n",
    "This way the differential order of the first integral is lowered which is advisable for application of the FEM.\n",
    "The second integral vanishes as \n",
    "\n",
    "* the variation formulation requires $V(\\mathbf{x}, \\omega) = 0$ on $\\partial V$ where $P(\\mathbf{x}, \\omega)$ is known - here by the pure Dirichlet boundary condition - or\n",
    "* due to a pure homogeneous Neumann boundary condition $\\frac{\\partial}{\\partial n} P(\\mathbf{x}, \\omega)$ on $\\partial V$. \n",
    "\n",
    "This results in the variational/weak formulation of the Helmholtz equation\n",
    "\n",
    "\\begin{equation}\n",
    "- \\int_V \\nabla P(\\mathbf{x}, \\omega) \\cdot \\nabla V(\\mathbf{x}, \\omega) \\mathrm{d}x  \n",
    "+ \\frac{\\omega^2}{c^2} \\int_V P(\\mathbf{x}, \\omega) V(\\mathbf{x}, \\omega) \\mathrm{d}x = \n",
    "- \\int_V Q(\\mathbf{x}, \\omega) V(\\mathbf{x}, \\omega) \\mathrm{d}x\n",
    "\\end{equation}\n",
    "\n",
    "It is common to express the integral equation above in terms of the bilinear $a(P, V)$ and linear $L(V)$ forms \n",
    "\n",
    "\\begin{equation}\n",
    "a(P, V) = \\frac{\\omega^2}{c^2} \\int_V P(\\mathbf{x}, \\omega) V(\\mathbf{x}, \\omega) \\mathrm{d}x - \\int_V \\nabla P(\\mathbf{x}, \\omega) \\cdot \\nabla V(\\mathbf{x}, \\omega) \\mathrm{d}x ,\n",
    "\\end{equation}\n",
    "\n",
    "\\begin{equation}\n",
    "L(V) = - \\int_V Q(\\mathbf{x}, \\omega) V(\\mathbf{x}, \\omega) \\mathrm{d}x ,\n",
    "\\end{equation}\n",
    "\n",
    "where\n",
    "\n",
    "\\begin{equation}\n",
    "a(P, V) = L(V) .\n",
    "\\end{equation}"
   ]
  },
  {
   "cell_type": "markdown",
   "metadata": {},
   "source": [
    "## Numerical Solution\n",
    "\n",
    "The numerical solution of the variational problem is based on [FEniCS](https://fenicsproject.org/), an open-source framework for numerical solution of PDEs.\n",
    "Its high-level Python interface `dolfin` is used in the following to define the problem and compute its solution.\n",
    "The implementation is based on the variational formulation derived above.\n",
    "It is common in the FEM to denote the solution of the problem by $u$ and the test function by $v$.\n",
    "The definition of the problem in FEniCS is very close to the mathematical formulation of the problem.\n",
    "We limit ourselves to real-valued $P(\\mathbf{x}, \\omega)$ due to the assumption of Dirichlet or Neumann boundary conditions.\n",
    "\n",
    "For the subsequent examples the solution of the inhomogeneous wave equation for a point source $Q(\\mathbf{x}) = \\delta(\\mathbf{x}-\\mathbf{x_s})$ at position $\\mathbf{x_s}$ is computed using the FEM.\n",
    "A function is defined for this purpose, accompanied by a plotting routine for the resulting sound field."
   ]
  },
  {
   "cell_type": "code",
   "execution_count": null,
   "metadata": {},
   "outputs": [],
   "source": [
    "import dolfin\n",
    "import mshr\n",
    "import matplotlib.pyplot as plt\n",
    "%matplotlib inline\n",
    "\n",
    "\n",
    "def FEM_Helmholtz(mesh, frequency, xs, neumann_bc=True, c=343):\n",
    "    '''numerical solution of the Helmholtz equation using the FEM'''\n",
    "    \n",
    "    # squared wavenumber\n",
    "    k2 = dolfin.Constant(2*dolfin.pi*frequency/c)**2\n",
    "    \n",
    "    # define function space\n",
    "    V = dolfin.FunctionSpace(mesh, \"CG\", 2)\n",
    "\n",
    "    # define boundary conditions\n",
    "    if neumann_bc:\n",
    "        bcs = None\n",
    "    else:\n",
    "        bcs = dolfin.DirichletBC(V, dolfin.Constant(0), \"on_boundary\")\n",
    "    \n",
    "    # define variational problem\n",
    "    u = dolfin.TrialFunction(V)\n",
    "    v = dolfin.TestFunction(V)\n",
    "\n",
    "    a = k2 * dolfin.inner(u, v) * dolfin.dx - dolfin.inner(dolfin.nabla_grad(u), dolfin.nabla_grad(v)) * dolfin.dx\n",
    "    L = dolfin.Constant(0) * v * dolfin.dx\n",
    "    \n",
    "    A, b = dolfin.assemble_system(a, L, bcs)\n",
    "    \n",
    "    # define inhomogenity\n",
    "    delta = dolfin.PointSource(V, xs, -1)  # to account for negative sign in inhomogeneity\n",
    "    delta.apply(b)\n",
    "\n",
    "    # compute solution\n",
    "    u = dolfin.Function(V)\n",
    "    dolfin.solve(A, u.vector(), b)\n",
    "\n",
    "    return u\n",
    "\n",
    "\n",
    "def plot_soundfield(u):\n",
    "    '''plot solution of FEM-based simulation'''\n",
    "    fig = plt.figure(figsize=(10,10))\n",
    "    fig = dolfin.plot(u)\n",
    "    plt.title(r'$P(\\mathbf{x}, \\omega)$')\n",
    "    plt.xlabel(r'$x$ / m')\n",
    "    plt.ylabel(r'$y$ / m')\n",
    "    plt.colorbar(fig, fraction=0.038, pad=0.04);"
   ]
  },
  {
   "cell_type": "markdown",
   "metadata": {},
   "source": [
    "### Sound Field in a Rectangular Room with Sound-Hard Boundaries\n",
    "\n",
    "The two-dimensional sound field in a rectangular room whose height is very small compared to the wavelength and with rigid boundaries (Neumann boundary condition) is computed for the frequency $f=1000$ Hz and source position $x_s = (1.2,3.2)$ m."
   ]
  },
  {
   "cell_type": "code",
   "execution_count": null,
   "metadata": {},
   "outputs": [],
   "source": [
    "# define geometry and mesh\n",
    "mesh = dolfin.RectangleMesh(dolfin.Point(0,0), dolfin.Point(5,4), 200, 200, \"right/left\")\n",
    "\n",
    "# compute solution\n",
    "u = FEM_Helmholtz(mesh, 1000, dolfin.Point(1.2,3.2))\n",
    "\n",
    "# plot sound field\n",
    "plot_soundfield(u)\n",
    "plot_soundfield(abs(u))\n",
    "plt.title(r'$|P(\\mathbf{x}, \\omega)|$');"
   ]
  },
  {
   "cell_type": "markdown",
   "metadata": {},
   "source": [
    "### Sound Field in Two Coupled Rectangular Rooms\n",
    "\n",
    "The two-dimensional sound field in two coupled rectangular rooms with sound-hard boundaries (Neumann boundary condition) is computed for the frequency $f=1000$ Hz and source position $x_s = (2,0.5)$ m. First the geometry is defined and plotted, for which the mesh is generated with a low number of elements for ease of illustration. A higher resolution is then used for the simulations."
   ]
  },
  {
   "cell_type": "code",
   "execution_count": null,
   "metadata": {},
   "outputs": [],
   "source": [
    "# define geometry and mesh\n",
    "domain = mshr.Rectangle(dolfin.Point(0, 0), dolfin.Point(3,4)) + \\\n",
    "         mshr.Rectangle(dolfin.Point(3, 1.5), dolfin.Point(3.5, 2.5)) + \\\n",
    "         mshr.Rectangle(dolfin.Point(3.5, 0), dolfin.Point(6, 4))\n",
    "mesh2 = mshr.generate_mesh(domain, 20)\n",
    "\n",
    "dolfin.plot(mesh2);"
   ]
  },
  {
   "cell_type": "code",
   "execution_count": null,
   "metadata": {},
   "outputs": [],
   "source": [
    "# compute solution\n",
    "mesh2 = mshr.generate_mesh(domain, 100)\n",
    "u = FEM_Helmholtz(mesh2, 1000, dolfin.Point(2, .5))\n",
    "\n",
    "# plot sound field\n",
    "plot_soundfield(u)\n",
    "plot_soundfield(abs(u))\n",
    "plt.title(r'$|P(\\mathbf{x}, \\omega)|$');"
   ]
  },
  {
   "cell_type": "markdown",
   "metadata": {},
   "source": [
    "**Copyright**\n",
    "\n",
    "This notebook is provided as [Open Educational Resource](https://en.wikipedia.org/wiki/Open_educational_resources). Feel free to use the notebook for your own purposes. The text is licensed under [Creative Commons Attribution 4.0](https://creativecommons.org/licenses/by/4.0/), the code of the IPython examples under the [MIT license](https://opensource.org/licenses/MIT)."
   ]
  }
 ],
 "metadata": {
  "kernelspec": {
   "display_name": "Python 3",
   "language": "python",
   "name": "python3"
  },
  "language_info": {
   "codemirror_mode": {
    "name": "ipython",
    "version": 3
   },
   "file_extension": ".py",
   "mimetype": "text/x-python",
   "name": "python",
   "nbconvert_exporter": "python",
   "pygments_lexer": "ipython3",
   "version": "3.6.5"
  }
 },
 "nbformat": 4,
 "nbformat_minor": 2
}
