{
 "cells": [
  {
   "cell_type": "markdown",
   "metadata": {},
   "source": [
    "# Numerical Solution of the Helmholtz Equation using the Finite Element Method"
   ]
  },
  {
   "cell_type": "markdown",
   "metadata": {},
   "source": [
    "This notebook illustrates the numerical solution of the wave equation for an harmonic excitation using the so called [Finite Element Method](https://en.wikipedia.org/wiki/Finite_element_method) (FEM). The method aims at an approximate solution by subdividing the area of interest into smaller parts with simpler geometry, linking these parts together and applying methods from the calculus of variations to solve the problem numerically. The FEM is a well established method for the numerical approximation of the solution of partial differential equations (PDEs). The solutions of PDEs are often known analytically only for rather simple geometries. FEM based simulations allow to gain insights into other more complex cases."
   ]
  },
  {
   "cell_type": "markdown",
   "metadata": {},
   "source": [
    "## Problem Statement\n",
    "\n",
    "The inhomogeneous linear [wave equation](https://en.wikipedia.org/wiki/Wave_equation) is given as\n",
    "\n",
    "\\begin{equation}\n",
    "\\Delta p(\\mathbf{x}, t) - \\frac{1}{c^2} \\frac{\\partial^2}{\\partial t^2} p(\\mathbf{x}, t) = - q(\\mathbf{x}, t) ,\n",
    "\\end{equation}\n",
    "\n",
    "where $p(\\mathbf{x}, t)$ denotes the sound pressure at position $\\mathbf{x}$, $c$ the speed of sound and $q(\\mathbf{x}, t)$ the inhomogeneity.\n",
    "For an harmonic excitation $q(\\mathbf{x}, t) = \\Re \\{ Q(\\mathbf{x}, \\omega) \\mathrm{e}^{\\mathrm{j} \\omega t} \\}$ with frequency $\\omega = 2 \\pi f$ we choose the Ansatz $p(\\mathbf{x}, t) = \\Re \\{ P(\\mathbf{x}, \\omega) \\mathrm{e}^{\\mathrm{j} \\omega t} \\}$ for the sound pressure.\n",
    "Introduction of the complex quantities into the wave equation yields\n",
    "\n",
    "\\begin{equation}\n",
    "\\Delta P(\\mathbf{x}, \\omega) \\mathrm{e}^{\\mathrm{j} \\omega t} + \\frac{\\omega^2}{c^2} P(\\mathbf{x}, \\omega) \\mathrm{e}^{\\mathrm{j} \\omega t} = - Q(\\mathbf{x}, \\omega) \\mathrm{e}^{\\mathrm{j} \\omega t} ,\n",
    "\\end{equation}\n",
    "\n",
    "canceling out the $\\mathrm{e}^{\\mathrm{j} \\omega t}$ terms yields the [Helmholtz equation](https://en.wikipedia.org/wiki/Helmholtz_equation)\n",
    "\n",
    "\\begin{equation}\n",
    "\\Delta P(\\mathbf{x}, \\omega) + \\frac{\\omega^2}{c^2} P(\\mathbf{x}, \\omega) = - Q(\\mathbf{x}, \\omega) .\n",
    "\\end{equation}\n",
    "\n",
    "We aim for a numerical solution of the Helmholtz equation on the domain $V$ with respect to the homogeneous Dirichlet boundary condition\n",
    "\n",
    "\\begin{equation}\n",
    "P(\\mathbf{x}, \\omega) = 0 \\qquad \\text{for } x \\in \\partial V \n",
    "\\end{equation}\n",
    "\n",
    "or the homogeneous Neumann boundary condition\n",
    "\n",
    "\\begin{equation}\n",
    "\\frac{\\partial}{\\partial n} P(\\mathbf{x}, \\omega) = 0 \\qquad \\text{for } x \\in \\partial V ,\n",
    "\\end{equation}\n",
    "\n",
    "where $\\partial V $ denotes the boundary of $V$."
   ]
  },
  {
   "cell_type": "markdown",
   "metadata": {},
   "source": [
    "## Variational Formulation\n",
    "\n",
    "The FEM is based on expressing the partial differential equation (PDE) to be solved in its [variational](https://en.wikipedia.org/wiki/Calculus_of_variations) or weak form.\n",
    "The first step towards this formulation is to multiply the Helmholtz equation by the test function $V(\\mathbf{x}, \\omega)$\n",
    "\n",
    "\\begin{equation}\n",
    "\\Delta P(\\mathbf{x}, \\omega) \\cdot V(\\mathbf{x}, \\omega)  + \\frac{\\omega^2}{c^2} P(\\mathbf{x}, \\omega) \\cdot V(\\mathbf{x}, \\omega) = - Q(\\mathbf{x}, \\omega) \\cdot V(\\mathbf{x}, \\omega) ,\n",
    "\\end{equation}\n",
    "\n",
    "followed by integration over the domain $V$\n",
    "\n",
    "\\begin{equation}\n",
    "\\int_V \\Delta P(\\mathbf{x}, \\omega) \\cdot V(\\mathbf{x}, \\omega) \\mathrm{d}x  + \\frac{\\omega^2}{c^2} \\int_V P(\\mathbf{x}, \\omega) \\cdot V(\\mathbf{x}, \\omega) \\mathrm{d}x = - \\int_V Q(\\mathbf{x}, \\omega) \\cdot V(\\mathbf{x}, \\omega) \\mathrm{d}x ,\n",
    "\\end{equation}\n",
    "\n",
    "where $\\mathrm{d}x$ denotes a suitably chosen differential element for integration.\n",
    "Application of [Green's first identity](https://en.wikipedia.org/wiki/Green%27s_identities) yields\n",
    "\n",
    "\\begin{equation}\n",
    "- \\int_V \\nabla P(\\mathbf{x}, \\omega) \\cdot \\nabla V(\\mathbf{x}, \\omega) \\mathrm{d}x  + \n",
    "\\int_{\\partial V} V(\\mathbf{x}, \\omega) \\frac{\\partial}{\\partial n}  P(\\mathbf{x}, \\omega) \\mathrm{d}s\n",
    "+ \\frac{\\omega^2}{c^2} \\int_V P(\\mathbf{x}, \\omega) V(\\mathbf{x}, \\omega) \\mathrm{d}x = \n",
    "- \\int_V Q(\\mathbf{x}, \\omega) V(\\mathbf{x}, \\omega) \\mathrm{d}x .\n",
    "\\end{equation}\n",
    "\n",
    "This way the differential order of the first integral is lowered which is advisable for application of the FEM.\n",
    "The second integral vanishes as the variation formulation requires $V(\\mathbf{x}, \\omega) = 0$ on $\\partial V$ where $P(\\mathbf{x}, \\omega)$ is known by - for instance fixed - boundary conditions.\n",
    "This results in the variational/weak formulation of the Helmholtz equation\n",
    "\n",
    "\\begin{equation}\n",
    "- \\int_V \\nabla P(\\mathbf{x}, \\omega) \\cdot \\nabla V(\\mathbf{x}, \\omega) \\mathrm{d}x  \n",
    "+ \\frac{\\omega^2}{c^2} \\int_V P(\\mathbf{x}, \\omega) V(\\mathbf{x}, \\omega) \\mathrm{d}x = \n",
    "- \\int_V Q(\\mathbf{x}, \\omega) V(\\mathbf{x}, \\omega) \\mathrm{d}x\n",
    "\\end{equation}\n",
    "\n",
    "It is common to express this in terms of the bilinear $a(P, V)$ and linear $L(V)$ forms \n",
    "\n",
    "\\begin{equation}\n",
    "a(P, V) = \\frac{\\omega^2}{c^2} \\int_V P(\\mathbf{x}, \\omega) V(\\mathbf{x}, \\omega) \\mathrm{d}x - \\int_V \\nabla P(\\mathbf{x}, \\omega) \\cdot \\nabla V(\\mathbf{x}, \\omega) \\mathrm{d}x ,\n",
    "\\end{equation}\n",
    "\n",
    "\\begin{equation}\n",
    "L(V) = - \\int_V Q(\\mathbf{x}, \\omega) V(\\mathbf{x}, \\omega) \\mathrm{d}x ,\n",
    "\\end{equation}\n",
    "\n",
    "where obviously\n",
    "\n",
    "\\begin{equation}\n",
    "a(P, V) = L(V) .\n",
    "\\end{equation}"
   ]
  },
  {
   "cell_type": "markdown",
   "metadata": {},
   "source": [
    "## Numerical Solution\n",
    "\n",
    "The numerical solution of the variational problem is based on [FEniCS](https://fenicsproject.org/), an open-source framework for numerical solution of PDEs.\n",
    "Its high-level Python interface `dolfin` is used in the following to define the problem and compute its solution.\n",
    "The implementation is based on the variational formulation derived above.\n",
    "It is common in the FEM to denote the solution of the problem by $u$ and the test function by $v$.\n",
    "The definition of the problem in FEniCS is very close to the mathematical formulation of the problem.\n",
    "We limit ourselves to real-valued $P(\\mathbf{x}, \\omega)$ due to the assumption of Dirichlet or Neumann boundary conditions.\n",
    "\n",
    "For the subsequent examples the solution of the inhomogeneous wave equation for a point source $Q(\\mathbf{x}) = \\delta(\\mathbf{x}-\\mathbf{x_s})$ at position $\\mathbf{x_s}$ is computed using the FEM.\n",
    "A function is defined for this purpose, as well as for the plotting of the resulting sound field."
   ]
  },
  {
   "cell_type": "code",
   "execution_count": null,
   "metadata": {},
   "outputs": [],
   "source": [
    "from dolfin import *\n",
    "import mshr\n",
    "import matplotlib.pyplot as plt\n",
    "%matplotlib inline\n",
    "\n",
    "\n",
    "def FEM_Helmholtz(mesh, frequency, xs, neumann_bc=True, c=343):\n",
    "    '''Numerical solution of the Helmholtz equation using the FEM'''\n",
    "    \n",
    "    # squared wavenumber\n",
    "    k2 = (Constant(2*pi*frequency)/Constant(c))**2\n",
    "    \n",
    "    # define function space\n",
    "    V = FunctionSpace(mesh, \"CG\", 2)\n",
    "\n",
    "    # define boundary conditions\n",
    "    if neumann_bc:\n",
    "        bcs = None\n",
    "    else:\n",
    "        bcs = DirichletBC(V, Constant(0.), \"on_boundary\")\n",
    "    \n",
    "    # define variational problem\n",
    "    u = TrialFunction(V)\n",
    "    v = TestFunction(V)\n",
    "\n",
    "    a = k2 * inner(u, v) * dx - inner(nabla_grad(u), nabla_grad(v)) * dx\n",
    "    L = Constant(0.0) * v * dx\n",
    "    \n",
    "    A, b = assemble_system(a, L, bcs)\n",
    "    \n",
    "    # define inhomogenity\n",
    "    delta = PointSource(V, xs, -1)  # to account for negative sign in inhomogeneity\n",
    "    delta.apply(b)\n",
    "\n",
    "    # compute solution\n",
    "    u = Function(V)\n",
    "    solve(A, u.vector(), b)\n",
    "\n",
    "    return u\n",
    "\n",
    "\n",
    "def plot_soundfield(u):\n",
    "    '''plots solution of FEM-based simulation'''\n",
    "    fig = plt.figure(figsize=(10,10))\n",
    "    fig = plot(u)\n",
    "    plt.title(r'$P(\\mathbf{x}, \\omega)$')\n",
    "    plt.xlabel(r'$x$ / m')\n",
    "    plt.ylabel(r'$y$ / m')\n",
    "    plt.colorbar(fig, fraction=0.038, pad=0.04);"
   ]
  },
  {
   "cell_type": "markdown",
   "metadata": {},
   "source": [
    "### Validation with Kundt's Tube\n",
    "\n",
    "For validation of the model, the simple case of a one-dimensional sound field is computed. The simulation geometry is identical to [Kundt's tube](https://en.wikipedia.org/wiki/Kundt%27s_tube) (cf. e.g. chapter 6 in the textbook [Möser, M. (2009): Engineering Acoustics, Springer, Berlin, 2nd ed.](https://doi.org/10.1007/978-3-540-92723-5)) under the assumption that the wavelength of the sound is much larger than the diameter of the tube. We assume a rigid (Neumann) boundaries at the left ($x=0$ m) and right boundary ($x=1$ m), and a point source located at the left boundary ($x = 0$). The result can now be compared to its known analytic solution, i.e. a standing wave phenomenon. Hence, we can validate our simulation environment, by checking for\n",
    "\n",
    "1. positive pressure amplitude at the left and right boundary in the first plot for showing the amplitude of the pressure at time instance $t=0$ and\n",
    "2. characteristic standing wave node pattern for rigid (Neumann) boundary conditions in the second plot. Here maxima occur at $x=\\mu \\frac{\\lambda}{2}$ with $\\mu=0,1,2,...$ up to the length of the tube. Note that this plot depicts the magnitude of pressure."
   ]
  },
  {
   "cell_type": "code",
   "execution_count": null,
   "metadata": {},
   "outputs": [],
   "source": [
    "wavelength = 1/3  # wavelength in m\n",
    "c = 343  # speed of sound in m/s\n",
    "\n",
    "# define geometry and mesh\n",
    "mesh = UnitIntervalMesh(500)\n",
    "\n",
    "# compute solution\n",
    "u = FEM_Helmholtz(mesh, c/wavelength, Point(0), neumann_bc=True, c=c)\n",
    "\n",
    "# plot resulting sound pressure and its magnitude\n",
    "plt.figure(figsize=(10,3))\n",
    "plot(u)\n",
    "plt.title(r'$P(x, \\omega)$');\n",
    "plt.xlabel(r'$x$/m');\n",
    "\n",
    "plt.figure(figsize=(10,3))\n",
    "plot(abs(u))\n",
    "plt.title(r'$|P(x, \\omega)|$');\n",
    "plt.xlabel(r'$x$/m');"
   ]
  },
  {
   "cell_type": "markdown",
   "metadata": {},
   "source": [
    "### Sound Field in a Rectangular Room with Sound-Hard Boundaries\n",
    "\n",
    "Now, after validation, we can use the same code as above for a more sophisticated example.\n",
    "The two-dimensional sound field in a rectangular room whose height is very small compared to the wavelength and with rigid (Neumann) boundaries is computed for the frequency $f=1000$ Hz and source position $x_s = (1.2,3.2)$ m. The phenomena look more complex, it is however still only due to interference of direct and reflected waves."
   ]
  },
  {
   "cell_type": "code",
   "execution_count": null,
   "metadata": {},
   "outputs": [],
   "source": [
    "# define geometry and mesh\n",
    "mesh = RectangleMesh(Point(0,0), Point(5,4), 200, 200, \"right/left\")\n",
    "\n",
    "# compute solution\n",
    "u = FEM_Helmholtz(mesh, 1000, Point(1.2,3.2))\n",
    "\n",
    "# plot sound field\n",
    "plot_soundfield(u)\n",
    "plot_soundfield(abs(u))\n",
    "plt.title(r'$|P(\\mathbf{x}, \\omega)|$');"
   ]
  },
  {
   "cell_type": "markdown",
   "metadata": {},
   "source": [
    "### Sound Field in Two Coupled Rectangular Rooms\n",
    "\n",
    "The two-dimensional sound field in two coupled rectangular rooms with sound-hard boundaries (Neumann boundary conditions) is computed for the frequency $f=1000$ Hz and source position $x_s = (2,0.5)$ m. First the geometry is defined and plotted. Note the mesh is generated with a low number of elements for ease of illustration. A higher resolution is used for the simulations later."
   ]
  },
  {
   "cell_type": "code",
   "execution_count": null,
   "metadata": {},
   "outputs": [],
   "source": [
    "# define geometry and mesh\n",
    "domain = mshr.Rectangle(Point(0, 0), Point(3,4)) + mshr.Rectangle(Point(3, 1.5), Point(3.5, 2.5)) + mshr.Rectangle(Point(3.5, 0), Point(6, 4))\n",
    "mesh2 = mshr.generate_mesh(domain, 20)\n",
    "\n",
    "plot(mesh2);"
   ]
  },
  {
   "cell_type": "code",
   "execution_count": null,
   "metadata": {},
   "outputs": [],
   "source": [
    "# compute solution\n",
    "mesh2 = mshr.generate_mesh(domain, 100)\n",
    "u = FEM_Helmholtz(mesh2, 1000, Point(2, .5))\n",
    "\n",
    "# plot sound field\n",
    "plot_soundfield(u)\n",
    "plot_soundfield(abs(u))\n",
    "plt.title(r'$|P(\\mathbf{x}, \\omega)|$');"
   ]
  },
  {
   "cell_type": "markdown",
   "metadata": {},
   "source": [
    "**Copyright**\n",
    "\n",
    "This notebook is provided as [Open Educational Resource](https://en.wikipedia.org/wiki/Open_educational_resources). Feel free to use the notebook for your own purposes. The text is licensed under [Creative Commons Attribution 4.0](https://creativecommons.org/licenses/by/4.0/), the code of the IPython examples under the [MIT license](https://opensource.org/licenses/MIT)."
   ]
  }
 ],
 "metadata": {
  "kernelspec": {
   "display_name": "Python 3",
   "language": "python",
   "name": "python3"
  },
  "language_info": {
   "codemirror_mode": {
    "name": "ipython",
    "version": 3
   },
   "file_extension": ".py",
   "mimetype": "text/x-python",
   "name": "python",
   "nbconvert_exporter": "python",
   "pygments_lexer": "ipython3",
   "version": "3.6.5"
  }
 },
 "nbformat": 4,
 "nbformat_minor": 2
}
