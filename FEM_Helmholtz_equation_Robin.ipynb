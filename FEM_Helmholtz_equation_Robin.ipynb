{
 "cells": [
  {
   "cell_type": "markdown",
   "metadata": {},
   "source": [
    "# Numerical Solution of the Helmholtz Equation with Robin Boundary Conditions using the Finite Element Method"
   ]
  },
  {
   "cell_type": "markdown",
   "metadata": {},
   "source": [
    "This notebook illustrates the numerical solution of the wave equation for an harmonic excitation and Robin boundary conditions using the [Finite Element Method](https://en.wikipedia.org/wiki/Finite_element_method) (FEM). The method aims at an approximate solution by subdividing the area of interest into smaller parts with simpler geometry, linking these parts together and applying methods from the calculus of variations to solve the problem numerically. The FEM is a well established method for the numerical approximation of the solution of partial differential equations (PDEs). The solutions of PDEs are often known analytically only for rather simple geometries. FEM based simulations allow to gain insights into other more complex cases."
   ]
  },
  {
   "cell_type": "markdown",
   "metadata": {},
   "source": [
    "## Problem Statement\n",
    "\n",
    "The inhomogeneous [Helmholtz equation](https://en.wikipedia.org/wiki/Helmholtz_equation) is given as\n",
    "\n",
    "\\begin{equation}\n",
    "\\Delta P(\\mathbf{x}, \\omega) + \\frac{\\omega^2}{c^2} P(\\mathbf{x}, \\omega) = - Q(\\mathbf{x}, \\omega) .\n",
    "\\end{equation}\n",
    "\n",
    "We aim for a numerical solution of the Helmholtz equation on the domain $V$ with respect to the homogeneous Robin boundary condition\n",
    "\n",
    "\\begin{equation}\n",
    "V_n(\\mathbf{x}, \\omega) + \\frac{1}{Z(\\mathbf{x}, \\omega)} P(\\mathbf{x}, \\omega) = 0 \\qquad \\text{for } x \\in \\partial V ,\n",
    "\\end{equation}\n",
    "\n",
    "where $V_n(\\mathbf{x}, \\omega)$ denotes the particle velocity in inward normal direction to the boundary $\\partial V$ of $V$ and $Z(\\mathbf{x}, \\omega)$ the acoustic impedance of the boundary.\n",
    "The particle velocity can be linked to the pressure using the Euler equation\n",
    "\n",
    "\\begin{equation}\n",
    "-\\mathrm{j} \\omega \\rho_0 V_n(\\mathbf{x}, \\omega) = \\frac{\\partial}{\\partial n} P(\\mathbf{x}, \\omega) ,\n",
    "\\end{equation}\n",
    "\n",
    "where $\\rho_0$ denotes the static density of air.\n",
    "Introducing this into the Robin boundary equation above yields\n",
    "\n",
    "\\begin{equation}\n",
    "\\frac{\\partial}{\\partial n} P(\\mathbf{x}, \\omega) - \\mathrm{j} \\underbrace{\\frac{\\omega \\rho_0}{Z}}_{\\sigma} P(\\mathbf{x}, \\omega) = 0 \\qquad \\text{for } x \\in \\partial V .\n",
    "\\end{equation}\n",
    "\n",
    "The medium impedance of air for free-field propagation is $Z_0 = \\rho_0 c$, hence $\\sigma_0 = \\frac{\\omega}{c}$ in this case. Free-field conditions can be simulated by matching the impedance of the boundary to $Z_0$."
   ]
  },
  {
   "cell_type": "markdown",
   "metadata": {},
   "source": [
    "## Variational Formulation\n",
    "\n",
    "Starting from the [variational formulation of the Helmholtz equation](FEM_Helmholtz_equation_2D.ipynb#Variational-Formulation) (before application of Green's first theorem)\n",
    "\n",
    "\\begin{equation}\n",
    "- \\int_V \\nabla P(\\mathbf{x}, \\omega) \\cdot \\nabla V(\\mathbf{x}, \\omega) \\mathrm{d}x  + \n",
    "\\int_{\\partial V} V(\\mathbf{x}, \\omega) \\frac{\\partial}{\\partial n}  P(\\mathbf{x}, \\omega) \\mathrm{d}s\n",
    "+ \\frac{\\omega^2}{c^2} \\int_V P(\\mathbf{x}, \\omega) V(\\mathbf{x}, \\omega) \\mathrm{d}x = \n",
    "-\\int_V Q(\\mathbf{x}, \\omega) V(\\mathbf{x}, \\omega) \\mathrm{d}x\n",
    "\\end{equation}\n",
    "\n",
    "and introducing the Robin boundary condition into the second integral yields\n",
    "\n",
    "\\begin{equation}\n",
    "- \\int_V \\nabla P(\\mathbf{x}, \\omega) \\cdot \\nabla V(\\mathbf{x}, \\omega) \\mathrm{d}x  + \n",
    "\\mathrm{j} \\sigma \\int_{\\partial V} V(\\mathbf{x}, \\omega) P(\\mathbf{x}, \\omega) \\mathrm{d}s\n",
    "+ \\frac{\\omega^2}{c^2} \\int_V P(\\mathbf{x}, \\omega) V(\\mathbf{x}, \\omega) \\mathrm{d}x = \n",
    "-\\int_V Q(\\mathbf{x}, \\omega) V(\\mathbf{x}, \\omega) \\mathrm{d}x .\n",
    "\\end{equation}\n",
    "\n",
    "\n",
    "It is common to express this integral equation in terms of the bilinear $a(P, V)$ and linear $L(V)$ forms \n",
    "\n",
    "\\begin{equation}\n",
    "a(P, V) = \\frac{\\omega^2}{c^2} \\int_V P(\\mathbf{x}, \\omega) V(\\mathbf{x}, \\omega) \\mathrm{d}x \n",
    "- \\int_V \\nabla P(\\mathbf{x}, \\omega) \\cdot \\nabla V(\\mathbf{x}, \\omega) \\mathrm{d}x + \n",
    "\\mathrm{j} \\sigma \\int_{\\partial V} V(\\mathbf{x}, \\omega) P(\\mathbf{x}, \\omega) \\mathrm{d}s ,\n",
    "\\end{equation}\n",
    "\n",
    "\\begin{equation}\n",
    "L(V) = -\\int_V Q(\\mathbf{x}, \\omega) V(\\mathbf{x}, \\omega) \\mathrm{d}x ,\n",
    "\\end{equation}\n",
    "\n",
    "where\n",
    "\n",
    "\\begin{equation}\n",
    "a(P, V) = L(V) .\n",
    "\\end{equation}\n",
    "\n",
    "Computational implementations of the FEM (like FEniCS) may not be able to handle complex numbers.\n",
    "In this case the problem can be split into two coupled problems with respect to the real and imaginary part. By introducing $P(\\mathbf{x}, \\omega) = P_r(\\mathbf{x}, \\omega) + \\mathrm{j} P_i(\\mathbf{x}, \\omega)$ and $V(\\mathbf{x}, \\omega) = V_r(\\mathbf{x}, \\omega) + \\mathrm{j} V_i(\\mathbf{x}, \\omega)$ and identifying the real and imaginary parts of the bilinear and linear forms, we get\n",
    "\n",
    "\\begin{equation}\n",
    "a_r = \\int_V \\left( \\frac{\\omega^2}{c^2} V_r(\\mathbf{x}, \\omega) P_r(\\mathbf{x}, \\omega) -  \\frac{\\omega^2}{c^2} V_i(\\mathbf{x}, \\omega) P_i(\\mathbf{x}, \\omega) - \\nabla P_r(\\mathbf{x}, \\omega) \\cdot \\nabla V_r(\\mathbf{x}, \\omega) + \\nabla P_i(\\mathbf{x}, \\omega) \\cdot \\nabla V_i(\\mathbf{x}, \\omega) \\right) \\mathrm{d}x -\n",
    "\\sigma \\cdot \\int_{\\partial V} \\left( V_i(\\mathbf{x}, \\omega) P_r(\\mathbf{x}, \\omega) + V_r(\\mathbf{x}, \\omega) P_i(\\mathbf{x}, \\omega) \\right) \\mathrm{d}s, \n",
    "\\end{equation}\n",
    "\n",
    "\\begin{equation}\n",
    "a_i = \\int_V \\left( \\frac{\\omega^2}{c^2} V_r(\\mathbf{x}, \\omega) P_i(\\mathbf{x}, \\omega) +  \\frac{\\omega^2}{c^2} V_i(\\mathbf{x}, \\omega) P_r(\\mathbf{x}, \\omega) - \\nabla P_i(\\mathbf{x}, \\omega) \\cdot \\nabla V_r(\\mathbf{x}, \\omega) + \\nabla P_r(\\mathbf{x}, \\omega) \\cdot \\nabla V_i(\\mathbf{x}, \\omega) \\right) \\mathrm{d}x +\n",
    "\\sigma \\cdot \\int_{\\partial V} \\left( V_r(\\mathbf{x}, \\omega) P_r(\\mathbf{x}, \\omega) - V_i(\\mathbf{x}, \\omega) P_i(\\mathbf{x}, \\omega) \\right) \\mathrm{d}s\n",
    "\\end{equation}\n",
    "\n",
    "for the bilinear form."
   ]
  },
  {
   "cell_type": "markdown",
   "metadata": {},
   "source": [
    "## Numerical Solution\n",
    "\n",
    "The numerical solution of the variational problem is based on [FEniCS](https://fenicsproject.org/), an open-source framework for numerical solution of PDEs.\n",
    "Its high-level Python interface `dolfin` is used in the following to define the problem and compute the solution.\n",
    "The implementation is based on the variational formulation derived above.\n",
    "It is common in the FEM to denote the solution of the problem by $u$ and the test function by $v$.\n",
    "The definition of the problem in FEniCS is very close to the mathematical formulation of the problem.\n",
    "\n",
    "For the subsequent examples the solution of inhomogeneous wave equation for a point source $Q(\\mathbf{x}) = \\delta(\\mathbf{x}-\\mathbf{x_s})$ at position $\\mathbf{x_s}$ is computed using the FEM.\n",
    "A function is defined for this purpose, as well as for the plotting of the resulting sound field."
   ]
  },
  {
   "cell_type": "code",
   "execution_count": null,
   "metadata": {},
   "outputs": [],
   "source": [
    "import dolfin\n",
    "import mshr\n",
    "import matplotlib.pyplot as plt\n",
    "%matplotlib inline\n",
    "\n",
    "\n",
    "def Helmholtz_Robin(mesh, frequency, xs, sigma=dolfin.Constant(0), c=343):\n",
    "    \n",
    "    # squared wavenumber\n",
    "    k2 = dolfin.Constant(2*dolfin.pi*frequency/c)**2\n",
    "    \n",
    "    # define function space\n",
    "    V = dolfin.VectorFunctionSpace(mesh, \"CG\", 1, dim=2)\n",
    "\n",
    "    # define variational problem\n",
    "    (u_r, u_i) = dolfin.TrialFunction(V)\n",
    "    (v_r, v_i) = dolfin.TestFunction(V)\n",
    "\n",
    "    a_r = ( k2 * dolfin.inner(u_r,v_r) - k2 * dolfin.inner(u_i,v_i) - dolfin.inner(dolfin.grad(u_r), dolfin.grad(v_r)) + dolfin.inner(dolfin.grad(u_i), dolfin.grad(v_i)) ) * dolfin.dx  - sigma*dolfin.inner(u_r, v_i) * dolfin.ds - sigma*dolfin.inner(u_i, v_r) * dolfin.ds\n",
    "    a_i = ( k2 * dolfin.inner(u_r,v_i) + k2 * dolfin.inner(u_i,v_r) - dolfin.inner(dolfin.grad(u_r), dolfin.grad(v_i)) - dolfin.inner(dolfin.grad(u_i), dolfin.grad(v_r)) ) * dolfin.dx  + sigma*dolfin.inner(u_r, v_r) * dolfin.ds - sigma*dolfin.inner(u_i, v_i) * dolfin.ds\n",
    "    L_r = dolfin.Constant(0) * v_r * dolfin.dx\n",
    "    L_i = dolfin.Constant(0) * v_i * dolfin.dx\n",
    "\n",
    "    a = a_r + a_i\n",
    "    L = L_r + L_i\n",
    "    A, b = dolfin.assemble_system(a, L)\n",
    "\n",
    "    # define inhomogenity\n",
    "    delta = dolfin.PointSource(V.sub(0), xs, -1)  # negative amplitude accounts for -Q(x,w) in inhomogeneous wave equation\n",
    "    delta.apply(b)\n",
    "\n",
    "    # compute solution\n",
    "    u = dolfin.Function(V)\n",
    "    dolfin.solve(A, u.vector(), b)\n",
    "    (u_r, u_i) = dolfin.split(u)\n",
    "    \n",
    "    return u_r\n",
    "\n",
    "\n",
    "def plot_soundfield(u):\n",
    "    '''plots solution of FEM-based simulation'''\n",
    "    fig = plt.figure(figsize=(10,10))\n",
    "    fig = dolfin.plot(u)\n",
    "    plt.title(r'$P(\\mathbf{x}, \\omega)$')\n",
    "    plt.xlabel(r'$x$ in m')\n",
    "    plt.ylabel(r'$y$ in m')\n",
    "    plt.colorbar(fig, fraction=0.038, pad=0.04);"
   ]
  },
  {
   "cell_type": "markdown",
   "metadata": {},
   "source": [
    "### Sound Field in a Rectangular Room\n",
    "\n",
    "The two-dimensional sound field in a rectangular room (rectangular plate) with homogeneous Robin boundary conditions is computed for the frequency $f=1000$ Hz and source position $x_s = (1.2,3.2)$ m."
   ]
  },
  {
   "cell_type": "code",
   "execution_count": null,
   "metadata": {},
   "outputs": [],
   "source": [
    "f = 1000  # frequency\n",
    "xs = dolfin.Point(1.2, 3.2)  # source position\n",
    "\n",
    "# define geometry and mesh\n",
    "mesh = dolfin.RectangleMesh(dolfin.Point(0, 0), dolfin.Point(5, 4), 200, 200, \"right/left\")"
   ]
  },
  {
   "cell_type": "markdown",
   "metadata": {},
   "source": [
    "First, the case of sound-hard (Neumann) boundary conditions with $\\sigma = 0$ ($Z \\to \\infty$) is considered."
   ]
  },
  {
   "cell_type": "code",
   "execution_count": null,
   "metadata": {},
   "outputs": [],
   "source": [
    "# compute solution for sigma=0\n",
    "u = Helmholtz_Robin(mesh, f, xs, sigma=dolfin.Constant(0))\n",
    "\n",
    "# plot sound field\n",
    "plot_soundfield(u)\n",
    "plot_soundfield(abs(u))\n",
    "plt.title(r'$|P(\\mathbf{x}, \\omega)|$');"
   ]
  },
  {
   "cell_type": "markdown",
   "metadata": {},
   "source": [
    "Now the case of a matched boundary (free-field propagation) with $\\sigma = \\frac{\\omega}{c}$ ($Z = Z_0$) is considered."
   ]
  },
  {
   "cell_type": "code",
   "execution_count": null,
   "metadata": {},
   "outputs": [],
   "source": [
    "# compute solution for free-field propogation\n",
    "u = Helmholtz_Robin(mesh, f, xs, sigma=dolfin.Constant(2*dolfin.pi*f/343))\n",
    "\n",
    "# plot sound field\n",
    "plot_soundfield(u)\n",
    "plot_soundfield(abs(u))\n",
    "plt.title(r'$|P(\\mathbf{x}, \\omega)|$');"
   ]
  },
  {
   "cell_type": "markdown",
   "metadata": {},
   "source": [
    "The last example shows the simulation result for sound-soft (Dirichlet) boundary conditions with $\\sigma \\to \\infty$ ($Z=0$)."
   ]
  },
  {
   "cell_type": "code",
   "execution_count": null,
   "metadata": {},
   "outputs": [],
   "source": [
    "# compute solution for very large sigma\n",
    "u = Helmholtz_Robin(mesh, f, xs, sigma=dolfin.Constant(1e15))\n",
    "\n",
    "# plot sound field\n",
    "plot_soundfield(u)\n",
    "plot_soundfield(abs(u))\n",
    "plt.title(r'$|P(\\mathbf{x}, \\omega)|$');"
   ]
  },
  {
   "cell_type": "markdown",
   "metadata": {},
   "source": [
    "The effect of the homogeneous Dirichlet boundary condition (zero pressure at the boundary) can be observed conveniently in the magnitude of the sound field."
   ]
  },
  {
   "cell_type": "markdown",
   "metadata": {},
   "source": [
    "**Copyright**\n",
    "\n",
    "This notebook is provided as [Open Educational Resource](https://en.wikipedia.org/wiki/Open_educational_resources). Feel free to use the notebook for your own purposes. The text is licensed under [Creative Commons Attribution 4.0](https://creativecommons.org/licenses/by/4.0/), the code of the IPython examples under the [MIT license](https://opensource.org/licenses/MIT)."
   ]
  }
 ],
 "metadata": {
  "kernelspec": {
   "display_name": "Python 3",
   "language": "python",
   "name": "python3"
  },
  "language_info": {
   "codemirror_mode": {
    "name": "ipython",
    "version": 3
   },
   "file_extension": ".py",
   "mimetype": "text/x-python",
   "name": "python",
   "nbconvert_exporter": "python",
   "pygments_lexer": "ipython3",
   "version": "3.6.5"
  }
 },
 "nbformat": 4,
 "nbformat_minor": 2
}
